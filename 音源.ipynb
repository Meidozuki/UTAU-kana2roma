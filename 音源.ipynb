{
 "cells": [
  {
   "cell_type": "code",
   "execution_count": null,
   "metadata": {},
   "outputs": [],
   "source": [
    "import os\n",
    "import shutil\n",
    "from glob import glob"
   ]
  },
  {
   "cell_type": "code",
   "execution_count": null,
   "metadata": {},
   "outputs": [],
   "source": [
    "def delete_files(expr):\n",
    "    _lis=glob(expr)\n",
    "    for i in _lis:\n",
    "        os.remove(i)\n",
    "    print(f'delete {len(_lis)} files')"
   ]
  },
  {
   "cell_type": "code",
   "execution_count": null,
   "metadata": {},
   "outputs": [],
   "source": [
    "new_dest='D:\\\\春歌ナナVer1.3\\\\New'\n",
    "if not os.path.exists(new_dest):\n",
    "    os.mkdir(new_dest)"
   ]
  },
  {
   "cell_type": "code",
   "execution_count": null,
   "metadata": {},
   "outputs": [],
   "source": [
    "#使用后缀排除当前目录下新文件夹\n",
    "lis=glob('D:/春歌*/*.*')\n",
    "print(len(lis))\n",
    "lis"
   ]
  },
  {
   "cell_type": "code",
   "execution_count": null,
   "metadata": {},
   "outputs": [],
   "source": [
    "delete_files(r'D:\\春歌ナナVer1.3\\New\\*')"
   ]
  },
  {
   "cell_type": "code",
   "execution_count": null,
   "metadata": {},
   "outputs": [],
   "source": [
    "for filename in lis:\n",
    "    shutil.copy(filename,new_dest)"
   ]
  },
  {
   "cell_type": "code",
   "execution_count": null,
   "metadata": {},
   "outputs": [],
   "source": [
    "pron_text=\"\"\"あa\n",
    "いi\n",
    "うu\n",
    "えe\n",
    "おo\n",
    "かka\n",
    "きki\n",
    "くku\n",
    "けke\n",
    "こko\n",
    "さsa\n",
    "しshi\n",
    "すsu\n",
    "せse\n",
    "そso\n",
    "たta\n",
    "ちchi\n",
    "つtsu\n",
    "てte\n",
    "とto\n",
    "なna\n",
    "にni\n",
    "ぬnu\n",
    "ねne\n",
    "のno\n",
    "はha\n",
    "ひhi\n",
    "ふfu\n",
    "へhe\n",
    "ほho\n",
    "まma\n",
    "みmi\n",
    "むmu\n",
    "めme\n",
    "もmo\n",
    "やya\n",
    "（い）(i)\n",
    "ゆyu\n",
    "（え）(e)\n",
    "よyo\n",
    "らra\n",
    "りri\n",
    "るru\n",
    "れre\n",
    "ろro\n",
    "わwa\n",
    "をwo\n",
    "んn\n",
    "がga\n",
    "ぎgi\n",
    "ぐgu\n",
    "げge\n",
    "ごgo\n",
    "ざza\n",
    "じji\n",
    "ずzu\n",
    "ぜze\n",
    "ぞzo\n",
    "だda\n",
    "ぢdi\n",
    "づdu\n",
    "でde\n",
    "どdo\n",
    "ばba\n",
    "びbi\n",
    "ぶbu\n",
    "べbe\n",
    "ぼbo\n",
    "ぱpa\n",
    "ぴpi\n",
    "ぷpu\n",
    "ぺpe\n",
    "ぽpo\n",
    "ヴv\n",
    "\"\"\"\n",
    "kana=[]\n",
    "alpha=[]\n",
    "for line in pron_text.splitlines():\n",
    "    if (line[0] != '（'):\n",
    "        kana.append(line[0])\n",
    "        alpha.append(line[1:])\n",
    "        \n",
    "table=dict((key,value) for key,value in zip(kana,alpha))"
   ]
  },
  {
   "cell_type": "code",
   "execution_count": null,
   "metadata": {},
   "outputs": [],
   "source": []
  },
  {
   "cell_type": "code",
   "execution_count": null,
   "metadata": {},
   "outputs": [],
   "source": [
    "def get_pronunciation(kana):\n",
    "    #单假名词典\n",
    "    global table,full_table\n",
    "    #长音\n",
    "    def match_long_pattern(roma):\n",
    "        long_pron=['aa','ii','uu','ee','ei','oo','ou']\n",
    "        return roma in long_pron\n",
    "    #拗音（列表中为小写）\n",
    "    spe_dict=dict((k,v) for k,v in zip(list('ぁぃぅぇぉゃゅょ'), list('aiueoauo')))\n",
    "    keep=None\n",
    "    \n",
    "    #气息音\n",
    "    if kana[0] == '_':\n",
    "        keep=kana\n",
    "        kana=\"\".join(list(filter(lambda x: x in table.keys(), kana)))\n",
    "    \n",
    "    if kana and kana[0] in table.keys():\n",
    "        if len(kana) == 1 or name[1] not in spe_dict.keys():\n",
    "            pron=table[kana[0]]\n",
    "            print(pron)\n",
    "        else:\n",
    "            pron=table[kana[0]]\n",
    "            if len(pron) == 1:\n",
    "                pron=pron+spe_dict[kana[1]]\n",
    "            elif len(pron) == 2:\n",
    "                #长音\n",
    "                if match_long_pattern(pron[1]+spe_dict[kana[1]]):\n",
    "                    pron=pron+spe_dict[kana[1]]\n",
    "                elif kana[0] == 'ふ':\n",
    "                    pron=pron[:-1]+spe_dict[kana[1]]\n",
    "                elif kana[0] in list('すず'):\n",
    "                    pron=pron+spe_dict[kana[1]]\n",
    "                else:\n",
    "                    pron=pron[:-1]+'y'+spe_dict[kana[1]]\n",
    "            else:\n",
    "                pron=pron[:-1]+spe_dict[kana[1]]\n",
    "            print(pron,'\\tspe')\n",
    "            full_table[kana]=pron\n",
    "            \n",
    "        if keep is not None:\n",
    "            pron=keep.replace(kana,pron)\n",
    "            \n",
    "        return True,pron\n",
    "    else:\n",
    "        return False,kana"
   ]
  },
  {
   "cell_type": "code",
   "execution_count": null,
   "metadata": {
    "scrolled": true
   },
   "outputs": [],
   "source": [
    "#确认无误后修改NDEBUG为True\n",
    "NDEBUG=False\n",
    "\n",
    "full_table=table\n",
    "wavs=glob(new_dest+'/*.wav')\n",
    "for wav in wavs:\n",
    "    freq_name=wav.replace('.wav','_wav.frq')\n",
    "    name=os.path.splitext(os.path.split(wav)[1])[0]\n",
    "    print(wav,'\\t',name,end='\\t')\n",
    "    \n",
    "    success,pron=get_pronunciation(name)\n",
    "    \n",
    "    if success and NDEBUG:\n",
    "        def rename_wav(fname,kana,alpha):\n",
    "            dst=fname.replace(kana,alpha)\n",
    "            if not os.path.exists(dst):\n",
    "                shutil.move(fname, dst)\n",
    "            else:\n",
    "                print('file '+dst+' already exits,skip it.')\n",
    "\n",
    "        if os.path.exists(wav) and os.path.exists(freq_name):\n",
    "            rename_wav(wav,name,pron)\n",
    "            rename_wav(freq_name,name,pron)\n",
    "    else:\n",
    "        print()"
   ]
  },
  {
   "cell_type": "code",
   "execution_count": null,
   "metadata": {},
   "outputs": [],
   "source": [
    "with open(new_dest+'/oto-clean.ini','r',encoding='utf-8') as f:\n",
    "    ctx=f.read()"
   ]
  },
  {
   "cell_type": "code",
   "execution_count": null,
   "metadata": {},
   "outputs": [],
   "source": [
    "keys=list(full_table.keys())\n",
    "keys.sort(key=len,reverse=True)\n",
    "re=[]\n",
    "for line in ctx.splitlines():\n",
    "    #不保证连续音正确性，只适合单独音\n",
    "    for k in keys:\n",
    "        line=line.replace(k,full_table[k])\n",
    "    print(line)\n",
    "    re.append(line)\n",
    "    \n",
    "with open(new_dest+'/oto.ini','w',encoding='utf-8') as f:\n",
    "    f.write('\\n'.join(re))"
   ]
  },
  {
   "cell_type": "code",
   "execution_count": null,
   "metadata": {},
   "outputs": [],
   "source": []
  },
  {
   "cell_type": "code",
   "execution_count": null,
   "metadata": {
    "scrolled": true
   },
   "outputs": [],
   "source": [
    "# waves=glob('D:/春歌ナナVer1.3/*.wav')\n",
    "# os.chdir('D:/春歌ナナVer1.3')\n",
    "# for filename in waves:\n",
    "#     name=os.path.splitext(os.path.split(filename)[1])[0]\n",
    "#     if name in table.keys():\n",
    "#         dest='.\\\\春歌ナナVer1.3\\\\New\\\\%s.wav' % table[name]\n",
    "# #         shutil.copy(filename,dest)\n",
    "#         cmd=r'.\\ffmpeg.exe -y -i %s.wav -ac 1 .\\New\\%s.wav' % (name,table[name])\n",
    "#         print(cmd)\n",
    "        \n",
    "#         p=subprocess.Popen(r\"powershell \"+cmd, shell=True,\n",
    "#                           stdout=subprocess.PIPE)\n",
    "#         out,err=p.communicate()\n",
    "#         text=out.decode('utf-8')\n",
    "#         print(text)\n",
    "\n",
    "# #         print('copy {} to {}'.format(filename,dest))"
   ]
  },
  {
   "cell_type": "code",
   "execution_count": null,
   "metadata": {},
   "outputs": [],
   "source": []
  }
 ],
 "metadata": {
  "kernelspec": {
   "display_name": "Python 3",
   "language": "python",
   "name": "python3"
  },
  "language_info": {
   "codemirror_mode": {
    "name": "ipython",
    "version": 3
   },
   "file_extension": ".py",
   "mimetype": "text/x-python",
   "name": "python",
   "nbconvert_exporter": "python",
   "pygments_lexer": "ipython3",
   "version": "3.8.5"
  }
 },
 "nbformat": 4,
 "nbformat_minor": 4
}
